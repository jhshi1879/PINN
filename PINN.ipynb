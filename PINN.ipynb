{
  "nbformat": 4,
  "nbformat_minor": 0,
  "metadata": {
    "colab": {
      "provenance": [],
      "authorship_tag": "ABX9TyPQvtZXH3azrM2LxsoVNCqu",
      "include_colab_link": true
    },
    "kernelspec": {
      "name": "python3",
      "display_name": "Python 3"
    },
    "language_info": {
      "name": "python"
    }
  },
  "cells": [
    {
      "cell_type": "markdown",
      "metadata": {
        "id": "view-in-github",
        "colab_type": "text"
      },
      "source": [
        "<a href=\"https://colab.research.google.com/github/jhshi1879/PINN/blob/main/PINN.ipynb\" target=\"_parent\"><img src=\"https://colab.research.google.com/assets/colab-badge.svg\" alt=\"Open In Colab\"/></a>"
      ]
    },
    {
      "cell_type": "code",
      "execution_count": null,
      "metadata": {
        "id": "vIxhEwBrHYkr"
      },
      "outputs": [],
      "source": [
        "import tensorflow as tf\n",
        "import numpy as np\n",
        "from tensorflow.keras import layers"
      ]
    },
    {
      "cell_type": "markdown",
      "source": [
        "* MLP https://colab.research.google.com/drive/1h_uJa9H2ABJ76KhaHZ0oo4498o6Ng7Qy\n",
        "* Spline https://colab.research.google.com/drive/1OmCEyiqAbd5-5PPG7avgV2KBiXQBKZux\n",
        "* univariate_function https://colab.research.google.com/drive/1KLJPX73kXIkgJof4ydA13rjIYvqMwJ-z#scrollTo=WBbwEPAFGmhp"
      ],
      "metadata": {
        "id": "-xFLFWIp4YhJ"
      }
    }
  ]
}